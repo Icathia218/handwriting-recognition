{
 "cells": [
  {
   "cell_type": "code",
   "execution_count": 104,
   "id": "c1cbf8a5",
   "metadata": {},
   "outputs": [],
   "source": [
    "#手写体数字识别作业\n",
    "import numpy as np\n",
    "import matplotlib.pyplot as plt\n",
    "import ipynb_importer\n",
    "from dataLoader import loadMnist"
   ]
  },
  {
   "cell_type": "markdown",
   "id": "f2cb0d23",
   "metadata": {},
   "source": [
    "导入数据"
   ]
  },
  {
   "cell_type": "code",
   "execution_count": 105,
   "id": "5f3c3538",
   "metadata": {},
   "outputs": [],
   "source": [
    "train_images_path = './dataset/train-images-idx3-ubyte.gz'\n",
    "train_labels_path = './dataset/train-labels-idx1-ubyte.gz'\n",
    "test_images_path = './dataset/t10k-images-idx3-ubyte.gz'\n",
    "test_labels_path = './dataset/t10k-labels-idx1-ubyte.gz'\n",
    "(tmp_image, tmp_label), (test_image, test_label) = loadMnist(train_images_path, train_labels_path, test_images_path, test_labels_path)\n",
    "train_num = 50000\n",
    "valid_num = 10000\n",
    "test_num = 10000\n",
    "train_image = tmp_image[:train_num]\n",
    "valid_image = tmp_image[train_num:]\n",
    "train_label = tmp_label[:train_num]\n",
    "valid_label = tmp_label[train_num:]"
   ]
  },
  {
   "cell_type": "code",
   "execution_count": 106,
   "id": "a13bdf53",
   "metadata": {},
   "outputs": [],
   "source": [
    "def show_train(index):\n",
    "    plt.imshow(train_image[index].reshape(28,28), cmap = 'gray')\n",
    "    print('label:{}'.format(train_label[index].argmax()))\n",
    "def show_valid(index):\n",
    "    plt.imshow(valid_image[index].reshape(28,28), cmap = 'gray')\n",
    "    print('label:{}'.format(valid_label[index].argmax()))\n",
    "def show_test(index):\n",
    "    plt.imshow(test_image[index].reshape(28,28), cmap = 'gray')\n",
    "    print('label:{}'.format(test_label[index].argmax()))"
   ]
  },
  {
   "cell_type": "code",
   "execution_count": 107,
   "id": "20a08909",
   "metadata": {},
   "outputs": [
    {
     "name": "stdout",
     "output_type": "stream",
     "text": [
      "label:2\n"
     ]
    },
    {
     "data": {
      "image/png": "[encoded data removed]",
      "text/plain": [
       "<Figure size 432x288 with 1 Axes>"
      ]
     },
     "metadata": {
      "needs_background": "light"
     },
     "output_type": "display_data"
    }
   ],
   "source": [
    "show_train(np.random.randint(50000))"
   ]
  },
  {
   "cell_type": "code",
   "execution_count": 108,
   "id": "12069994",
   "metadata": {},
   "outputs": [],
   "source": [
    "num_inputs, num_outputs, num_hiddens = 784, 10, 256\n",
    "num_neurons = [784,256,256,10]\n",
    " \n",
    "W1 = np.random.normal(scale = 0.01, size = (num_inputs, num_hiddens))#784*256\n",
    "B1 = np.zeros(num_hiddens)#256\n",
    "W2 = np.random.normal(scale = 0.01, size = (num_hiddens, num_hiddens))#256*256\n",
    "B2 = np.zeros(num_hiddens)#256\n",
    "W3 = np.random.normal(scale = 0.01, size = (num_hiddens, num_outputs))#256*10\n",
    "B3 = np.zeros(num_outputs)#10\n",
    "W = [W1, W2, W3]\n",
    "B = [B1, B2, B3]"
   ]
  },
  {
   "cell_type": "code",
   "execution_count": 109,
   "id": "160ac78a",
   "metadata": {},
   "outputs": [],
   "source": [
    "def ReLU(X):\n",
    "    #激活函数\n",
    "    return(np.maximum(0,X))\n",
    "\n",
    "def deReLU(X):\n",
    "    #激活函数的导数\n",
    "    X[X<=0] = 0\n",
    "    X[X>0] = 1\n",
    "    return X"
   ]
  },
  {
   "cell_type": "code",
   "execution_count": 110,
   "id": "e75bd6eb",
   "metadata": {},
   "outputs": [],
   "source": [
    "\n",
    "# def MLP_net(X, W1, B1, W2, B2, W3, B3):\n",
    "#     H1 = ReLU(np.dot(X, W1) + B1)\n",
    "#     H2 = ReLU(np.dot(H1, W2) + B2)\n",
    "#     return ReLU(np.dot(H2, W3) + B3)\n"
   ]
  },
  {
   "cell_type": "code",
   "execution_count": 111,
   "id": "4890e0c7",
   "metadata": {},
   "outputs": [],
   "source": [
    "#交叉熵损失函数\n",
    "def cross_entropy_loss(output, label):\n",
    "    delta = 1e-7 #防止出现log（0）的情况\n",
    "    print(output)\n",
    "    return -np.sum(label * np.log(output + delta))"
   ]
  },
  {
   "cell_type": "code",
   "execution_count": 112,
   "id": "275abc3a",
   "metadata": {},
   "outputs": [],
   "source": [
    "def forward(image, label, W, B, num_neurons):\n",
    "    weight_net = []\n",
    "    output_net = []\n",
    "    num_layer = len(num_neurons)\n",
    "    for i in range(num_layer):\n",
    "        weight_net.append(np.zeros(num_neurons[i]))\n",
    "        output_net.append(np.zeros(num_neurons[i]))\n",
    "    output_net[0] = image\n",
    "    for j in range(1, num_layer):\n",
    "        weight_net[j] = np.dot(output_net[j-1], W[j-1]) +B[j-1]\n",
    "        output_net[j] = ReLU(weight_net[j])\n",
    "    output = output_net[num_layer-1]\n",
    "    # if np.sum(output) != 0:\n",
    "    #     output = output / np.sum(output)\n",
    "    #loss = cross_entropy_loss(output, label)\n",
    "    return weight_net, output_net, output\n",
    "\n",
    "def backward(W, B, label, num_neurons, weight_net, output_net, output, loss, learning_rate):\n",
    "    num_layer = len(num_neurons)\n",
    "    grad = []\n",
    "    for i in range(num_layer):\n",
    "        grad.append(np.zeros(num_neurons[i]))\n",
    "    for j in range(num_layer-1, 0, -1):#3-1\n",
    "        if j == num_layer-1:\n",
    "            grad[j] = -(label/(output+1e-10)) * deReLU(weight_net[j])\n",
    "            W[j-1] -= np.outer(output_net[j-1],grad[j]) * learning_rate\n",
    "            B[j-1] -= grad[j] * learning_rate\n",
    "        else:\n",
    "            grad[j] = np.dot(W[j], grad[j+1]) * deReLU(weight_net[j])\n",
    "            W[j-1] -= np.outer(output_net[j-1],grad[j]) * learning_rate\n",
    "            B[j-1] -= grad[j] * learning_rate\n",
    "    return W, B\n",
    "\n",
    "def train(image_set, label_set, W, B, num_neurons, train_iter = 1000000):\n",
    "    learning_rate = 0.0001\n",
    "    accur = 0\n",
    "    right_num = 0\n",
    "    tested_num = 0\n",
    "    loss = 10\n",
    "    for i in range(train_iter):\n",
    "        index = np.random.randint(50000)\n",
    "        img = train_image[index]\n",
    "        label = train_label[index]\n",
    "        weight_net, output_net, output = forward(img, label, W, B, num_neurons)\n",
    "        if output.argmax() == label.argmax():\n",
    "            right_num += 1\n",
    "        tested_num += 1\n",
    "        accur = right_num/tested_num\n",
    "        if i%10000 == 0:\n",
    "            print(\"Training iter:{}\".format(i))\n",
    "            print(\"Training accuracy:{}\".format(accur))\n",
    "            loss = cross_entropy_loss(output, label)\n",
    "            print(\"Loss:{}\".format(loss))\n",
    "            accur = 0\n",
    "            right_num = 0\n",
    "            tested_num = 0\n",
    "        W, B = backward(W, B, label, num_neurons, weight_net, output_net, output, loss, learning_rate)\n",
    "    "
   ]
  },
  {
   "cell_type": "code",
   "execution_count": 113,
   "id": "d783e7aa",
   "metadata": {},
   "outputs": [
    {
     "name": "stdout",
     "output_type": "stream",
     "text": [
      "Training iter:0\n",
      "Training accuracy:1.0\n",
      "[0.00095332 0.         0.         0.         0.00126298 0.\n",
      " 0.00060088 0.         0.00245486 0.        ]\n",
      "Loss:6.009645934681593\n",
      "Training iter:10000\n",
      "Training accuracy:0.0963\n",
      "[158.46054678   0.         184.9823433    0.         160.31736958\n",
      " 161.30973478   0.           0.         163.07819993 165.0856837 ]\n",
      "Loss:16.11809565095832\n",
      "Training iter:20000\n",
      "Training accuracy:0.0978\n",
      "[363.21058506   0.         390.70166662   0.         364.01840043\n",
      " 352.73805484   0.           0.         361.38920463 370.4252964 ]\n",
      "Loss:-5.865725727488192\n",
      "Training iter:30000\n",
      "Training accuracy:0.1005\n",
      "[693.08948333   0.         728.79180063   0.         694.6943459\n",
      " 668.29616864   0.           0.         690.34406732 700.83767018]\n",
      "Loss:-6.552276291426947\n",
      "Training iter:40000\n",
      "Training accuracy:0.1006\n",
      "[622.0232987    0.         648.51139504   0.         626.23270273\n",
      " 600.47552126   0.           0.         618.84111598 624.03994518]\n",
      "Loss:16.11809565095832\n",
      "Training iter:50000\n",
      "Training accuracy:0.1027\n",
      "[1067.11409715    0.         1105.55137388    0.         1065.48636964\n",
      " 1023.5065692     0.            0.         1059.87767433 1069.84499147]\n",
      "Loss:-7.008099470481925\n",
      "Training iter:60000\n",
      "Training accuracy:0.1005\n",
      "[1972.21962153    0.         2041.18476129    0.         1976.1879279\n",
      " 1896.29932469    0.            0.         1957.21261369 1981.45580253]\n",
      "Loss:16.11809565095832\n",
      "Training iter:70000\n",
      "Training accuracy:0.0951\n",
      "[1684.40440634    0.         1727.87821398    0.         1683.53359881\n",
      " 1612.12090743    0.            0.         1667.04742882 1693.26585334]\n",
      "Loss:16.11809565095832\n",
      "Training iter:80000\n",
      "Training accuracy:0.1006\n",
      "[2431.61845114    0.         2483.82942465    0.         2421.63944241\n",
      " 2321.49977355    0.            0.         2404.57844565 2435.43965053]\n",
      "Loss:16.11809565095832\n"
     ]
    },
    {
     "ename": "KeyboardInterrupt",
     "evalue": "",
     "output_type": "error",
     "traceback": [
      "\u001b[1;31m---------------------------------------------------------------------------\u001b[0m",
      "\u001b[1;31mKeyboardInterrupt\u001b[0m                         Traceback (most recent call last)",
      "\u001b[1;32md:\\personalFiles\\homework\\ML\\codeTask1\\Handwriting recognition.ipynb Cell 11\u001b[0m in \u001b[0;36m<cell line: 1>\u001b[1;34m()\u001b[0m\n\u001b[1;32m----> <a href='vscode-notebook-cell:/d%3A/personalFiles/homework/ML/codeTask1/Handwriting%20recognition.ipynb#X13sZmlsZQ%3D%3D?line=0'>1</a>\u001b[0m train(train_image, train_label, W, B, num_neurons)\n",
      "\u001b[1;32md:\\personalFiles\\homework\\ML\\codeTask1\\Handwriting recognition.ipynb Cell 11\u001b[0m in \u001b[0;36mtrain\u001b[1;34m(image_set, label_set, W, B, num_neurons, train_iter)\u001b[0m\n\u001b[0;32m     <a href='vscode-notebook-cell:/d%3A/personalFiles/homework/ML/codeTask1/Handwriting%20recognition.ipynb#X13sZmlsZQ%3D%3D?line=43'>44</a>\u001b[0m img \u001b[39m=\u001b[39m train_image[index]\n\u001b[0;32m     <a href='vscode-notebook-cell:/d%3A/personalFiles/homework/ML/codeTask1/Handwriting%20recognition.ipynb#X13sZmlsZQ%3D%3D?line=44'>45</a>\u001b[0m label \u001b[39m=\u001b[39m train_label[index]\n\u001b[1;32m---> <a href='vscode-notebook-cell:/d%3A/personalFiles/homework/ML/codeTask1/Handwriting%20recognition.ipynb#X13sZmlsZQ%3D%3D?line=45'>46</a>\u001b[0m weight_net, output_net, output \u001b[39m=\u001b[39m forward(img, label, W, B, num_neurons)\n\u001b[0;32m     <a href='vscode-notebook-cell:/d%3A/personalFiles/homework/ML/codeTask1/Handwriting%20recognition.ipynb#X13sZmlsZQ%3D%3D?line=46'>47</a>\u001b[0m \u001b[39mif\u001b[39;00m output\u001b[39m.\u001b[39margmax() \u001b[39m==\u001b[39m label\u001b[39m.\u001b[39margmax():\n\u001b[0;32m     <a href='vscode-notebook-cell:/d%3A/personalFiles/homework/ML/codeTask1/Handwriting%20recognition.ipynb#X13sZmlsZQ%3D%3D?line=47'>48</a>\u001b[0m     right_num \u001b[39m+\u001b[39m\u001b[39m=\u001b[39m \u001b[39m1\u001b[39m\n",
      "\u001b[1;32md:\\personalFiles\\homework\\ML\\codeTask1\\Handwriting recognition.ipynb Cell 11\u001b[0m in \u001b[0;36mforward\u001b[1;34m(image, label, W, B, num_neurons)\u001b[0m\n\u001b[0;32m      <a href='vscode-notebook-cell:/d%3A/personalFiles/homework/ML/codeTask1/Handwriting%20recognition.ipynb#X13sZmlsZQ%3D%3D?line=7'>8</a>\u001b[0m output_net[\u001b[39m0\u001b[39m] \u001b[39m=\u001b[39m image\n\u001b[0;32m      <a href='vscode-notebook-cell:/d%3A/personalFiles/homework/ML/codeTask1/Handwriting%20recognition.ipynb#X13sZmlsZQ%3D%3D?line=8'>9</a>\u001b[0m \u001b[39mfor\u001b[39;00m j \u001b[39min\u001b[39;00m \u001b[39mrange\u001b[39m(\u001b[39m1\u001b[39m, num_layer):\n\u001b[1;32m---> <a href='vscode-notebook-cell:/d%3A/personalFiles/homework/ML/codeTask1/Handwriting%20recognition.ipynb#X13sZmlsZQ%3D%3D?line=9'>10</a>\u001b[0m     weight_net[j] \u001b[39m=\u001b[39m np\u001b[39m.\u001b[39;49mdot(output_net[j\u001b[39m-\u001b[39;49m\u001b[39m1\u001b[39;49m], W[j\u001b[39m-\u001b[39;49m\u001b[39m1\u001b[39;49m]) \u001b[39m+\u001b[39mB[j\u001b[39m-\u001b[39m\u001b[39m1\u001b[39m]\n\u001b[0;32m     <a href='vscode-notebook-cell:/d%3A/personalFiles/homework/ML/codeTask1/Handwriting%20recognition.ipynb#X13sZmlsZQ%3D%3D?line=10'>11</a>\u001b[0m     output_net[j] \u001b[39m=\u001b[39m ReLU(weight_net[j])\n\u001b[0;32m     <a href='vscode-notebook-cell:/d%3A/personalFiles/homework/ML/codeTask1/Handwriting%20recognition.ipynb#X13sZmlsZQ%3D%3D?line=11'>12</a>\u001b[0m output \u001b[39m=\u001b[39m output_net[num_layer\u001b[39m-\u001b[39m\u001b[39m1\u001b[39m]\n",
      "File \u001b[1;32m<__array_function__ internals>:5\u001b[0m, in \u001b[0;36mdot\u001b[1;34m(*args, **kwargs)\u001b[0m\n",
      "\u001b[1;31mKeyboardInterrupt\u001b[0m: "
     ]
    }
   ],
   "source": [
    "train(train_image, train_label, W, B, num_neurons)"
   ]
  }
 ],
 "metadata": {
  "kernelspec": {
   "display_name": "Python 3.9.12 ('base')",
   "language": "python",
   "name": "python3"
  },
  "language_info": {
   "codemirror_mode": {
    "name": "ipython",
    "version": 3
   },
   "file_extension": ".py",
   "mimetype": "text/x-python",
   "name": "python",
   "nbconvert_exporter": "python",
   "pygments_lexer": "ipython3",
   "version": "3.9.12"
  },
  "vscode": {
   "interpreter": {
    "hash": "88279d2366fe020547cde40dd65aa0e3aa662a6ec1f3ca12d88834876c85e1a6"
   }
  }
 },
 "nbformat": 4,
 "nbformat_minor": 5
}
