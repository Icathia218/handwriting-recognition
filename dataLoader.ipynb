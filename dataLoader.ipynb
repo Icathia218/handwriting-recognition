{
 "cells": [
  {
   "cell_type": "code",
   "execution_count": 1,
   "id": "c2713cf2",
   "metadata": {},
   "outputs": [],
   "source": [
    "import numpy as  np\n",
    "import gzip\n",
    "from struct import unpack"
   ]
  },
  {
   "cell_type": "code",
   "execution_count": 2,
   "id": "af048223",
   "metadata": {},
   "outputs": [],
   "source": [
    "train_images_path = './dataset/train-images-idx3-ubyte.gz'\n",
    "train_labels_path = './dataset/train-labels-idx1-ubyte.gz'\n",
    "test_images_path = './dataset/t10k-images-idx3-ubyte.gz'\n",
    "test_labels_path = './dataset/t10k-labels-idx1-ubyte.gz'"
   ]
  },
  {
   "cell_type": "code",
   "execution_count": 3,
   "id": "b0b4fff1",
   "metadata": {},
   "outputs": [],
   "source": [
    "#读取图像\n",
    "def __read_image(path):\n",
    "    with gzip.open(path, 'rb') as f:\n",
    "        magic, num, rows, cols = unpack('>4I', f.read(16))\n",
    "        img=np.frombuffer(f.read(), dtype=np.uint8).reshape(num, 28*28)\n",
    "    return img\n",
    "\n",
    "#读取标签\n",
    "def __read_label(path):\n",
    "    with gzip.open(path, 'rb') as f:\n",
    "        magic, num = unpack('>2I', f.read(8))\n",
    "        lab = np.frombuffer(f.read(), dtype=np.uint8)\n",
    "        # print(lab[1])\n",
    "    return lab\n",
    "\n",
    "#将图像信息正则化，即0-255 --> 0-1\n",
    "def __normalize_image(image):\n",
    "    img = image.astype(np.float32) / 255.0\n",
    "    return img\n",
    "\n",
    "#将标签进行one-hot编码，如数字标签5转换为[0,0,0,0,0,1,0,0,0,0,0,0]\n",
    "def __one_hot_label(label):\n",
    "    lab = np.zeros((label.size, 10))\n",
    "    for i, row in enumerate(lab):\n",
    "        row[label[i]] = 1\n",
    "    return lab"
   ]
  },
  {
   "cell_type": "code",
   "execution_count": 6,
   "id": "3eafe555",
   "metadata": {},
   "outputs": [],
   "source": [
    "def loadMnist(train_data_path, train_labels_path, test_data_path, test_labels_path, normalize = 1, one_hot = 1):\n",
    "    image = {\n",
    "        'train' : __read_image(train_images_path),\n",
    "        'test' : __read_image(test_images_path)\n",
    "    }\n",
    "    label = {\n",
    "        'train' : __read_label(train_labels_path),\n",
    "        'test' : __read_label(test_labels_path)\n",
    "    }\n",
    "    if normalize:\n",
    "        for type in ('train', 'test'):\n",
    "            image[type] = __normalize_image(image[type])\n",
    "    if one_hot:\n",
    "        for type in ('train', 'test'):\n",
    "            label[type] = __one_hot_label(label[type])\n",
    "    return (image['train'], label['train']), (image['test'], label['test'])"
   ]
  },
  {
   "cell_type": "code",
   "execution_count": 7,
   "id": "dc1be2e6",
   "metadata": {},
   "outputs": [],
   "source": [
    "#(train_image, train_label), (test_image, test_label) = loadMnist(train_images_path, train_labels_path, test_images_path, test_labels_path)"
   ]
  }
 ],
 "metadata": {
  "kernelspec": {
   "display_name": "Python 3 (ipykernel)",
   "language": "python",
   "name": "python3"
  },
  "language_info": {
   "codemirror_mode": {
    "name": "ipython",
    "version": 3
   },
   "file_extension": ".py",
   "mimetype": "text/x-python",
   "name": "python",
   "nbconvert_exporter": "python",
   "pygments_lexer": "ipython3",
   "version": "3.9.12"
  }
 },
 "nbformat": 4,
 "nbformat_minor": 5
}
